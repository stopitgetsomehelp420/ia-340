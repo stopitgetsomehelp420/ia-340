{
 "cells": [
  {
   "cell_type": "markdown",
   "id": "c676e6ae",
   "metadata": {},
   "source": [
    "# Collect house price data\n",
    "\n",
    "The best way to collect house price data is using [Zillow API](https://www.zillow.com/howto/api/APIOverview.htm).\n",
    "\n",
    "This notebook is an academic demonstration of how to crawl information from websites. The data used in this demo is a single page manually downloaded from [Trulia](https://www.trulia.com) and then uploaded to a dummy website hosted by AWS S3."
   ]
  },
  {
   "cell_type": "markdown",
   "id": "3ab7604e",
   "metadata": {},
   "source": [
    "## Import libraries "
   ]
  },
  {
   "cell_type": "code",
   "execution_count": null,
   "id": "91e1ee9b",
   "metadata": {},
   "outputs": [],
   "source": [
    "import pandas\n",
    "import configparser\n",
    "import psycopg2"
   ]
  },
  {
   "cell_type": "code",
   "execution_count": null,
   "id": "04849375",
   "metadata": {},
   "outputs": [],
   "source": [
    "config = configparser.ConfigParser()\n",
    "config.read('config.ini')\n",
    "\n",
    "host = config['myaws']['host']\n",
    "db = config['myaws']['db']\n",
    "user = config['myaws']['user']\n",
    "pwd = config['myaws']['pwd']"
   ]
  },
  {
   "cell_type": "code",
   "execution_count": null,
   "id": "0888312e",
   "metadata": {},
   "outputs": [],
   "source": [
    "conn = psycopg2.connect(host = host,\n",
    "                       user = user,\n",
    "                        password = pwd,\n",
    "                        dbname = db\n",
    "                       )\n",
    "cur = conn.cursor()"
   ]
  },
  {
   "cell_type": "markdown",
   "id": "fb878cfd",
   "metadata": {},
   "source": [
    "## Create a table in database"
   ]
  },
  {
   "cell_type": "code",
   "execution_count": null,
   "id": "a53eb1c0",
   "metadata": {},
   "outputs": [],
   "source": [
    "# replace the schema and table name to your schema and table name if necessary\n",
    "table_sql = \"\"\"\n",
    "            CREATE TABLE IF NOT EXISTS house\n",
    "            (\n",
    "\n",
    "                price integer,\n",
    "                bed integer,\n",
    "                bath integer,\n",
    "                area integer,\n",
    "                address VARCHAR(200),\n",
    "                PRIMARY KEY(address)\n",
    "            );\n",
    "\n",
    "            \"\"\""
   ]
  },
  {
   "cell_type": "code",
   "execution_count": null,
   "id": "c126392e",
   "metadata": {},
   "outputs": [],
   "source": [
    "# conn.rollback()\n",
    "# table_sql=\"drop table if exists house\""
   ]
  },
  {
   "cell_type": "code",
   "execution_count": null,
   "id": "4e7ab4e0",
   "metadata": {},
   "outputs": [],
   "source": [
    "cur.execute(table_sql)\n",
    "conn.commit()"
   ]
  },
  {
   "cell_type": "markdown",
   "id": "1e9a5273",
   "metadata": {},
   "source": [
    "## Define the URL"
   ]
  },
  {
   "cell_type": "markdown",
   "id": "ae17d64e",
   "metadata": {},
   "source": [
    "Fill in the S3 website URL to the `url` variable."
   ]
  },
  {
   "cell_type": "code",
   "execution_count": null,
   "id": "86711b68",
   "metadata": {},
   "outputs": [],
   "source": [
    "url = 'https://github.com/xbwei/Data-Mining-on-Social-Media/blob/master/Minning%20House%20Price%20from%20Trulia/Collect_house_price_data.ipynb'"
   ]
  },
  {
   "cell_type": "markdown",
   "id": "b9a80845",
   "metadata": {},
   "source": [
    "## Collect the research results "
   ]
  },
  {
   "cell_type": "code",
   "execution_count": null,
   "id": "800fd902",
   "metadata": {},
   "outputs": [],
   "source": [
    "import urllib.request\n",
    "response = urllib.request.urlopen(url)\n",
    "html_data= response.read()\n",
    "# print(html_data.decode('utf-8'))"
   ]
  },
  {
   "cell_type": "code",
   "execution_count": null,
   "id": "7cfe8549",
   "metadata": {
    "scrolled": false
   },
   "outputs": [],
   "source": [
    "from bs4 import BeautifulSoup\n",
    "soup = BeautifulSoup(html_data,'html.parser')\n",
    "# print (soup)"
   ]
  },
  {
   "cell_type": "markdown",
   "id": "ba58cd10",
   "metadata": {},
   "source": [
    "## Insert the records into database"
   ]
  },
  {
   "cell_type": "code",
   "execution_count": null,
   "id": "94e02fbf",
   "metadata": {
    "scrolled": false
   },
   "outputs": [],
   "source": [
    "for ul in soup.find_all('ul'):\n",
    "    for li_class in ul.find_all('li'):\n",
    "        try:\n",
    "            for price_div in li_class.find_all('div',{'data-testid':'property-price'}):\n",
    "                price =int(price_div.text.replace('$','').replace(\",\",\"\"))\n",
    "            for bed_div in li_class.find_all('div', {'data-testid':'property-beds'}):\n",
    "                bed= int(bed_div.text.replace('bd','').replace(\",\",\"\"))\n",
    "            for bath_div in li_class.find_all('div',{'data-testid':'property-baths'}):\n",
    "                bath =int(bath_div.text.replace('ba','').replace(\",\",\"\"))\n",
    "            for area_div in li_class.find_all('div',{'data-testid':'property-floorSpace'}):\n",
    "                area=int(area_div.text.split('sqft')[0].replace(\",\",\"\"))\n",
    "            for address_div in li_class.find_all('div',{'data-testid':'property-address'}):\n",
    "                address =address_div.text\n",
    "            try:\n",
    "                sql_insert = \"\"\"\n",
    "                            insert into house(price,bed,bath,area,address)\n",
    "                            values('{}','{}','{}','{}','{}')            \n",
    "                            \"\"\".format(price,bed,bath,area,address)\n",
    "\n",
    "                cur.execute(sql_insert)\n",
    "                conn.commit()\n",
    "            except:\n",
    "                conn.rollback()\n",
    "        except:\n",
    "            pass"
   ]
  },
  {
   "cell_type": "markdown",
   "id": "ebd70f30",
   "metadata": {},
   "source": [
    "## Query the table"
   ]
  },
  {
   "cell_type": "code",
   "execution_count": null,
   "id": "82bfaedf",
   "metadata": {
    "scrolled": true
   },
   "outputs": [],
   "source": [
    "df = pandas.read_sql_query('select * from house ', conn)\n",
    "df[:]"
   ]
  },
  {
   "cell_type": "markdown",
   "id": "4ff4fe94",
   "metadata": {},
   "source": [
    "## Basic statistics "
   ]
  },
  {
   "cell_type": "code",
   "execution_count": null,
   "id": "d7728405",
   "metadata": {},
   "outputs": [],
   "source": [
    "df.describe()"
   ]
  },
  {
   "cell_type": "markdown",
   "id": "d53d7da1",
   "metadata": {},
   "source": [
    "## Price distribution"
   ]
  },
  {
   "cell_type": "code",
   "execution_count": null,
   "id": "6268801c",
   "metadata": {
    "scrolled": true
   },
   "outputs": [],
   "source": [
    "df['price'].hist()"
   ]
  },
  {
   "cell_type": "code",
   "execution_count": null,
   "id": "9df9df3d",
   "metadata": {},
   "outputs": [],
   "source": [
    "df.plot.scatter(x='bed',y='bath')"
   ]
  },
  {
   "cell_type": "code",
   "execution_count": null,
   "id": "3bfc4768",
   "metadata": {},
   "outputs": [],
   "source": [
    "df['price'].mean()"
   ]
  },
  {
   "cell_type": "code",
   "execution_count": null,
   "id": "d91d2700",
   "metadata": {},
   "outputs": [],
   "source": [
    "sql =\n",
    "\"\"\"\n",
    "\n",
    "select  avg(price/area) as avg_unit_price from house\n",
    "\n",
    "\n",
    "\"\"\""
   ]
  },
  {
   "cell_type": "code",
   "execution_count": null,
   "id": "207c838f",
   "metadata": {},
   "outputs": [],
   "source": []
  }
 ],
 "metadata": {
  "kernelspec": {
   "display_name": "conda_python3",
   "language": "python",
   "name": "conda_python3"
  },
  "language_info": {
   "codemirror_mode": {
    "name": "ipython",
    "version": 3
   },
   "file_extension": ".py",
   "mimetype": "text/x-python",
   "name": "python",
   "nbconvert_exporter": "python",
   "pygments_lexer": "ipython3",
   "version": "3.8.12"
  }
 },
 "nbformat": 4,
 "nbformat_minor": 5
}
